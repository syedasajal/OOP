{
 "cells": [
  {
   "cell_type": "code",
   "execution_count": 12,
   "id": "5d38ed08",
   "metadata": {},
   "outputs": [],
   "source": [
    "#this is an empty class\n",
    "\n",
    "class Door:\n",
    "    pass\n"
   ]
  },
  {
   "cell_type": "code",
   "execution_count": 7,
   "id": "f4eb3de8",
   "metadata": {},
   "outputs": [],
   "source": [
    "class Door:\n",
    "#__init__ is the constructor and constructor is used to create attributes.\n",
    "    def __init__(self,color,dimm,material): #self,colour,material is the attribute \n",
    "        self.color = color\n",
    "        self.dimm = dimm\n",
    "        self.material = material\n",
    "        self.angle = 0\n",
    "        \n",
    "    def open_(self,angle_value):\n",
    "        self.angle = angle_value\n",
    "        print(\"Open the door\")\n",
    "        \n",
    "    def close_(self,angle_value):\n",
    "        if angle_value==0:\n",
    "            print(\"Door is already closed,cannot close more.\")\n",
    "        else:\n",
    "            self.angle = self.angle - angle_value"
   ]
  },
  {
   "cell_type": "code",
   "execution_count": 8,
   "id": "4fd74ab4",
   "metadata": {},
   "outputs": [],
   "source": [
    "dr_1 = Door(\"back\",\"7*4\",\"wood\")\n",
    "dr_2 = Door(color=\"white\",dimm=\"7*4\",material=\"steel\")"
   ]
  },
  {
   "cell_type": "code",
   "execution_count": 9,
   "id": "6916c030",
   "metadata": {},
   "outputs": [
    {
     "data": {
      "text/plain": [
       "'back'"
      ]
     },
     "execution_count": 9,
     "metadata": {},
     "output_type": "execute_result"
    }
   ],
   "source": [
    "dr_1.color"
   ]
  },
  {
   "cell_type": "code",
   "execution_count": 10,
   "id": "be0fb764",
   "metadata": {},
   "outputs": [
    {
     "name": "stdout",
     "output_type": "stream",
     "text": [
      "Open the door\n"
     ]
    }
   ],
   "source": [
    "dr_1.open_(40)"
   ]
  },
  {
   "cell_type": "code",
   "execution_count": 11,
   "id": "a29b79c2",
   "metadata": {},
   "outputs": [
    {
     "data": {
      "text/plain": [
       "'7*4'"
      ]
     },
     "execution_count": 11,
     "metadata": {},
     "output_type": "execute_result"
    }
   ],
   "source": [
    "dr_2.dimm"
   ]
  },
  {
   "cell_type": "code",
   "execution_count": 150,
   "id": "76ca27f5",
   "metadata": {},
   "outputs": [],
   "source": [
    "\n",
    "class Soldier:\n",
    "    def __init__(self,uniform,weapon,army ,bullets):\n",
    "        \n",
    "        self.uniform = uniform\n",
    "        self.weapon = weapon\n",
    "        self.army = army\n",
    "        self.bullets = bullets\n",
    "        self.aimed = False\n",
    "        self.alerted = False\n",
    "        \n",
    "    def aim(self):\n",
    "        print(\"Soldier is aiming at the point\")\n",
    "        self.aimed = True\n",
    "    \n",
    "    def fire(self,bullets):\n",
    "        if self.aimed == False:\n",
    "            self.aimed == True\n",
    "            if self.bullets > 0:\n",
    "                for i in range(self.bullets):\n",
    "                    self.bullets = self.bullets - 1\n",
    "                    print(\"bullets is \" + str(self.bullets))\n",
    "                    if self.bullets == 0:\n",
    "                        break\n",
    "                    \n",
    "            else:\n",
    "                print(\"gun has no bullets\")\n",
    "                    \n",
    "        else:\n",
    "            print(\"aim first!\")\n",
    "            \n",
    "    def alert(self):\n",
    "        print(\"Soldier is alert an ready to attack.\")\n",
    "        \n",
    "    def attack(self):\n",
    "        print(\"attacked\")\n",
    "    \n",
    "    def reload(self,bullets):\n",
    "        if self.bullets == 0:\n",
    "            self.bullets = self.bullets + bullets\n",
    "            print(\"we reloaded gun with\" +\" \"+ str(self.bullets)+\" \" + \"bullets\")"
   ]
  },
  {
   "cell_type": "code",
   "execution_count": 156,
   "id": "8680feac",
   "metadata": {},
   "outputs": [],
   "source": [
    "s = Soldier('blue','m416','pak',10)\n",
    "s1 = Soldier(\"brown\",\"Ak47\",\"india\",0)"
   ]
  },
  {
   "cell_type": "code",
   "execution_count": 157,
   "id": "7fccfaf0",
   "metadata": {},
   "outputs": [
    {
     "name": "stdout",
     "output_type": "stream",
     "text": [
      "bullets is 9\n",
      "bullets is 8\n",
      "bullets is 7\n",
      "bullets is 6\n",
      "bullets is 5\n",
      "bullets is 4\n",
      "bullets is 3\n",
      "bullets is 2\n",
      "bullets is 1\n",
      "bullets is 0\n"
     ]
    }
   ],
   "source": [
    "s.fire(10)"
   ]
  },
  {
   "cell_type": "code",
   "execution_count": 158,
   "id": "f9ec6c1f",
   "metadata": {},
   "outputs": [
    {
     "name": "stdout",
     "output_type": "stream",
     "text": [
      "we reloaded gun with 60 bullets\n"
     ]
    }
   ],
   "source": [
    "s.reload(60)"
   ]
  },
  {
   "cell_type": "code",
   "execution_count": 148,
   "id": "fa411abf",
   "metadata": {},
   "outputs": [
    {
     "name": "stdout",
     "output_type": "stream",
     "text": [
      "gun has no bullets\n"
     ]
    }
   ],
   "source": [
    "s1.fire(0)"
   ]
  },
  {
   "cell_type": "code",
   "execution_count": 149,
   "id": "cf9bcf7d",
   "metadata": {},
   "outputs": [
    {
     "name": "stdout",
     "output_type": "stream",
     "text": [
      "we reloaded gun with 10 bullets\n"
     ]
    }
   ],
   "source": [
    "s1.reload(10)"
   ]
  },
  {
   "cell_type": "code",
   "execution_count": 2,
   "id": "2dcf6881",
   "metadata": {},
   "outputs": [],
   "source": [
    "class Animal:\n",
    "    def __init__(self,weight,colour):\n",
    "        self.weight = weight\n",
    "        self.colour = colour\n",
    "        \n",
    "    def eat(self):\n",
    "        return \"animal is eating\"\n",
    "        \n",
    "    def drink(self):\n",
    "        return \"animal is drinking water\"\n",
    "        \n",
    "    def sleep(sleep):\n",
    "        return \"animal is sleeping\"\n",
    "        \n",
    "        \n",
    "class Herbivorous(Animal):\n",
    "    def __init__(self, weight, colour, fodder):\n",
    "        self.fodder = fodder\n",
    "        Animal.__init__(self,weight,colour)\n",
    "        \n",
    "    def eat(self):\n",
    "        return Animal.eat(self) +' '+self.fodder\n",
    "    \n",
    "class Carnivorous(Animal):\n",
    "    def __init__(self,weight,colour,fodder):\n",
    "        self.fodder = fodder\n",
    "        Animal.__init__(self,weight,colour)\n",
    "        \n",
    "    def eat(self):\n",
    "        return Animal.eat(self) +\" \"+ self.fodder\n",
    "    \n",
    "class Omnivorous(Herbivorous,Carnivorous):\n",
    "    def __init__(self,weight,colour,fodder):\n",
    "        self.fodder = fodder\n",
    "        Animal.__init__(self,weight,colour)\n",
    "        \n",
    "    def eat(self):\n",
    "        return Animal.eat(self) +\" \"+ self.fodder\n",
    "        \n",
    "        \n"
   ]
  },
  {
   "cell_type": "code",
   "execution_count": 3,
   "id": "96818209",
   "metadata": {},
   "outputs": [],
   "source": [
    "cow = Herbivorous(25, 'white', 'barley grass')\n",
    "lion = Carnivorous(30,\"brown\",\"meat\")\n",
    "bear = Omnivorous(60,\"dark brown\",\"plants and meat\")"
   ]
  },
  {
   "cell_type": "code",
   "execution_count": 4,
   "id": "dbe899dd",
   "metadata": {},
   "outputs": [
    {
     "data": {
      "text/plain": [
       "'animal is eating barley grass'"
      ]
     },
     "execution_count": 4,
     "metadata": {},
     "output_type": "execute_result"
    }
   ],
   "source": [
    "cow.eat()"
   ]
  },
  {
   "cell_type": "code",
   "execution_count": 5,
   "id": "a283fadd",
   "metadata": {},
   "outputs": [
    {
     "data": {
      "text/plain": [
       "'animal is eating meat'"
      ]
     },
     "execution_count": 5,
     "metadata": {},
     "output_type": "execute_result"
    }
   ],
   "source": [
    "lion.eat()"
   ]
  },
  {
   "cell_type": "code",
   "execution_count": 6,
   "id": "9e0bd6df",
   "metadata": {},
   "outputs": [
    {
     "data": {
      "text/plain": [
       "'animal is eating plants and meat'"
      ]
     },
     "execution_count": 6,
     "metadata": {},
     "output_type": "execute_result"
    }
   ],
   "source": [
    "bear.eat()"
   ]
  },
  {
   "cell_type": "code",
   "execution_count": 7,
   "id": "463cd1be",
   "metadata": {},
   "outputs": [
    {
     "data": {
      "text/plain": [
       "'white'"
      ]
     },
     "execution_count": 7,
     "metadata": {},
     "output_type": "execute_result"
    }
   ],
   "source": [
    "cow.colour"
   ]
  },
  {
   "cell_type": "code",
   "execution_count": 8,
   "id": "c9e279d2",
   "metadata": {},
   "outputs": [
    {
     "data": {
      "text/plain": [
       "30"
      ]
     },
     "execution_count": 8,
     "metadata": {},
     "output_type": "execute_result"
    }
   ],
   "source": [
    "lion.weight"
   ]
  },
  {
   "cell_type": "code",
   "execution_count": 9,
   "id": "d2caacb1",
   "metadata": {},
   "outputs": [
    {
     "data": {
      "text/plain": [
       "'animal is drinking water'"
      ]
     },
     "execution_count": 9,
     "metadata": {},
     "output_type": "execute_result"
    }
   ],
   "source": [
    "bear.drink()"
   ]
  },
  {
   "cell_type": "code",
   "execution_count": 10,
   "id": "aa6757d4",
   "metadata": {},
   "outputs": [
    {
     "data": {
      "text/plain": [
       "'plants and meat'"
      ]
     },
     "execution_count": 10,
     "metadata": {},
     "output_type": "execute_result"
    }
   ],
   "source": [
    "bear.fodder"
   ]
  },
  {
   "cell_type": "code",
   "execution_count": 11,
   "id": "4308163e",
   "metadata": {},
   "outputs": [
    {
     "data": {
      "text/plain": [
       "'meat'"
      ]
     },
     "execution_count": 11,
     "metadata": {},
     "output_type": "execute_result"
    }
   ],
   "source": [
    "lion.fodder"
   ]
  },
  {
   "cell_type": "code",
   "execution_count": 25,
   "id": "e75851e6",
   "metadata": {},
   "outputs": [],
   "source": [
    "class Animal:\n",
    "    def __init__(self,weight):\n",
    "        self.weight = weight\n",
    "        \n",
    "    def eat(self):\n",
    "        print(\"animal is eating\")\n",
    "        \n",
    "    def drink(self):\n",
    "        print(\"animal is drinking\")\n",
    "        \n",
    "    def sleep(self):\n",
    "        print(\"animal is sleeping\")\n",
    "        \n",
    "class Herbivorous(Animal):\n",
    "    def __init__(self,weight,type_):\n",
    "        self.type_ = type_\n",
    "        Animal.__init__(self,weight)\n",
    "        \n",
    "    def eat_plants(self):\n",
    "        print(\"only eat plants\")\n",
    "        \n",
    "class Cow(Herbivorous):\n",
    "    def __init__(self,weight,type_,colour):\n",
    "        self.colour = colour\n",
    "        Herbivorous.__init__(self,weight,type_)\n",
    "        \n",
    "    def gives_milk(self):\n",
    "        print(\"cow gives milk\")\n",
    "        \n",
    "class Sahiwal_Cow(Cow):\n",
    "    def __init__(self,weight,type_,colour,belongs_to):\n",
    "        self.belongs_to = belongs_to\n",
    "        Cow.__init__(self,weight,type_,colour)\n",
    "        \n",
    "    def gives_milk(self):\n",
    "        return Cow.gives_milk(self)\n",
    "        \n",
    "        \n",
    "class Carnivorous(Animal):\n",
    "    def __init__(self,weight,type_):\n",
    "        self.type_ = type_\n",
    "        Animal.__init__(self,weight)\n",
    "        \n",
    "    def eat_meat(self):\n",
    "        print(\"eats meat\")\n",
    "        \n",
    "        \n",
    "class Shark(Carnivorous):\n",
    "    def __init__(self,weight,type_,bones):\n",
    "        self.bones = bones\n",
    "        Carnivorous.__init__(self,weight,type_)\n",
    "        \n",
    "    def sharp_eyesight(self):\n",
    "        print(\"shark has sharp eyesight\")\n",
    "        \n",
    "class Blue_Shark(Shark):\n",
    "    def __init__(self,weight,type_,bones,colour):\n",
    "        self.colour = colour\n",
    "        Shark.__init__(self,weight,type_,bones)\n",
    "        \n",
    "    def sharp_eyesight(self):\n",
    "        return Shark.sharp_eyesight(self)\n",
    "    "
   ]
  },
  {
   "cell_type": "code",
   "execution_count": 26,
   "id": "e7bfd5e3",
   "metadata": {},
   "outputs": [],
   "source": [
    "ani = Animal(50)\n",
    "herbi = Herbivorous(60,\"herbivorous\")\n",
    "cow = Cow(60,\"herbivorous\",\"white\")\n",
    "sahiwalcow = Sahiwal_Cow(60,\"herbivorous\",\"brown\",\"sahiwal\")\n",
    "carni = Carnivorous(70,\"carnivorous\")\n",
    "shark = Shark(80,\"carnivorous\",\"no bones\")\n",
    "blueshark = Blue_Shark(80,\"carnivorous\",\"no bones\",\"blue colour\")"
   ]
  },
  {
   "cell_type": "code",
   "execution_count": 27,
   "id": "8b794c1e",
   "metadata": {},
   "outputs": [
    {
     "data": {
      "text/plain": [
       "'white'"
      ]
     },
     "execution_count": 27,
     "metadata": {},
     "output_type": "execute_result"
    }
   ],
   "source": [
    "cow.colour"
   ]
  },
  {
   "cell_type": "code",
   "execution_count": 28,
   "id": "7bc5795a",
   "metadata": {},
   "outputs": [
    {
     "name": "stdout",
     "output_type": "stream",
     "text": [
      "cow gives milk\n"
     ]
    }
   ],
   "source": [
    "sahiwalcow.gives_milk()"
   ]
  },
  {
   "cell_type": "code",
   "execution_count": 29,
   "id": "f1dcec97",
   "metadata": {},
   "outputs": [
    {
     "data": {
      "text/plain": [
       "'no bones'"
      ]
     },
     "execution_count": 29,
     "metadata": {},
     "output_type": "execute_result"
    }
   ],
   "source": [
    "shark.bones"
   ]
  },
  {
   "cell_type": "code",
   "execution_count": 30,
   "id": "fe59c99a",
   "metadata": {},
   "outputs": [
    {
     "name": "stdout",
     "output_type": "stream",
     "text": [
      "shark has sharp eyesight\n"
     ]
    }
   ],
   "source": [
    "shark.sharp_eyesight()"
   ]
  },
  {
   "cell_type": "code",
   "execution_count": 32,
   "id": "d3487e5a",
   "metadata": {},
   "outputs": [
    {
     "data": {
      "text/plain": [
       "'blue colour'"
      ]
     },
     "execution_count": 32,
     "metadata": {},
     "output_type": "execute_result"
    }
   ],
   "source": [
    "blueshark.colour"
   ]
  },
  {
   "cell_type": "code",
   "execution_count": 42,
   "id": "4e1fd4c5",
   "metadata": {},
   "outputs": [],
   "source": [
    "class Human:\n",
    "    def __init__(self,name,age,height,colour,gender):\n",
    "        self.name = name\n",
    "        self.age = age\n",
    "        self.height = height\n",
    "        self.colour = colour\n",
    "        self.gender = gender\n",
    "        \n",
    "    def eat(self):\n",
    "        return \"eats\"\n",
    "    \n",
    "    def drink(self):\n",
    "        return \"drinks\"\n",
    "    \n",
    "    def works(self):\n",
    "        return \"works\"\n",
    "        \n",
    "class Father(Human):\n",
    "    def __init__(self,name,age,height,colour,gender,features,way_of_talking):\n",
    "        self.features = features\n",
    "        self.way_of_talking = way_of_talking\n",
    "        Human.__init__(self,name,age,height,colour,gender)\n",
    "    \n",
    "    def works(self):\n",
    "        return \"do work and earn money\"\n",
    "    \n",
    "class Mother(Human):\n",
    "    def __init__(self,name,age,height,colour,gender,features,way_of_talking):\n",
    "        self.features = features\n",
    "        self.way_of_talking = way_of_talking\n",
    "        Human.__init__(self,name,age,height,colour,gender)\n",
    "        \n",
    "    def works(self):\n",
    "        return \"house-wife\"\n",
    "    \n",
    "class Child(Father,Mother):\n",
    "    def __init__(self,name,age,height,colour,gender,features,way_of_talking):\n",
    "        Father.__init__(self,name,age,height,colour,gender,features,way_of_talking)\n",
    "        Mother.__init__(self,name,age,height,colour,gender,features,way_of_talking)\n",
    "        \n",
    "    def study(self):\n",
    "        return \"studiying\"\n",
    "    \n",
    "        "
   ]
  },
  {
   "cell_type": "code",
   "execution_count": 43,
   "id": "7ccade2c",
   "metadata": {},
   "outputs": [],
   "source": [
    "human = Human(\"ali\",20,5.3,\"dull\",\"male\")\n",
    "father = Father(\"jamal\",57,5.7,\"white\",\"male\",\"good features\",\"polite\")\n",
    "mother = Mother(\"abida\",47,5.5,\"normal\",\"female\",\"sharp features\",\"loud\")\n",
    "child = Child(\"alishba\",13,3.5,\"normal\",\"female\",\"good features\",\"loud\")\n"
   ]
  },
  {
   "cell_type": "code",
   "execution_count": 44,
   "id": "e05d5555",
   "metadata": {},
   "outputs": [
    {
     "data": {
      "text/plain": [
       "'do work and earn money'"
      ]
     },
     "execution_count": 44,
     "metadata": {},
     "output_type": "execute_result"
    }
   ],
   "source": [
    "father.works()"
   ]
  },
  {
   "cell_type": "code",
   "execution_count": 46,
   "id": "b7402e6a",
   "metadata": {},
   "outputs": [
    {
     "data": {
      "text/plain": [
       "'house-wife'"
      ]
     },
     "execution_count": 46,
     "metadata": {},
     "output_type": "execute_result"
    }
   ],
   "source": [
    "mother.works()"
   ]
  },
  {
   "cell_type": "code",
   "execution_count": 47,
   "id": "e9a9d090",
   "metadata": {},
   "outputs": [
    {
     "data": {
      "text/plain": [
       "'studiying'"
      ]
     },
     "execution_count": 47,
     "metadata": {},
     "output_type": "execute_result"
    }
   ],
   "source": [
    "child.study()"
   ]
  },
  {
   "cell_type": "code",
   "execution_count": 49,
   "id": "e980d05b",
   "metadata": {},
   "outputs": [
    {
     "data": {
      "text/plain": [
       "'female'"
      ]
     },
     "execution_count": 49,
     "metadata": {},
     "output_type": "execute_result"
    }
   ],
   "source": [
    "child.gender"
   ]
  },
  {
   "cell_type": "code",
   "execution_count": 50,
   "id": "8e5007da",
   "metadata": {},
   "outputs": [
    {
     "data": {
      "text/plain": [
       "13"
      ]
     },
     "execution_count": 50,
     "metadata": {},
     "output_type": "execute_result"
    }
   ],
   "source": [
    "child.age"
   ]
  },
  {
   "cell_type": "code",
   "execution_count": 54,
   "id": "80b28fd3",
   "metadata": {},
   "outputs": [],
   "source": [
    "import time\n",
    "\n",
    "class Car:\n",
    "    def __init__(self,brand,model):\n",
    "        self.brand = brand\n",
    "        self.model = model\n",
    "        self.fuel_level = 0\n",
    "        self.started = False\n",
    "        \n",
    "    def fuel_up(self,fuel_level):\n",
    "        for i in range(fuel_level):\n",
    "            self.fuel_level = self.fuel_level + 1\n",
    "            print(\"fuel is\" +\" \"+ str(self.fuel_level))\n",
    "            time.sleep(1)\n",
    "            \n",
    "    def start(self):\n",
    "        if self.fuel_level > 0:\n",
    "            print(\"car is started\")\n",
    "            self.started = True\n",
    "            \n",
    "        else:\n",
    "            print(\"plz add fuel to start\")\n",
    "            \n",
    "    def drive(self):\n",
    "        if self.started == True:\n",
    "            print(\"car is now driving\")\n",
    "        else:\n",
    "            print(\"start the car first \")\n",
    "            \n",
    "    def stop(self):\n",
    "        print(\"car is now stop\")\n",
    "        \n",
    "            "
   ]
  },
  {
   "cell_type": "code",
   "execution_count": 60,
   "id": "5fa61b7f",
   "metadata": {},
   "outputs": [],
   "source": [
    "car1 = Car(\"toyota\",\"corolla\")\n",
    "car2 = Car(\"honda\",\"kia-spotage\")"
   ]
  },
  {
   "cell_type": "code",
   "execution_count": 61,
   "id": "52dfed5d",
   "metadata": {},
   "outputs": [
    {
     "name": "stdout",
     "output_type": "stream",
     "text": [
      "fuel is 1\n",
      "fuel is 2\n",
      "fuel is 3\n",
      "fuel is 4\n",
      "fuel is 5\n",
      "fuel is 6\n"
     ]
    }
   ],
   "source": [
    "car1.fuel_up(6)"
   ]
  },
  {
   "cell_type": "code",
   "execution_count": 62,
   "id": "015c2b53",
   "metadata": {},
   "outputs": [
    {
     "name": "stdout",
     "output_type": "stream",
     "text": [
      "car is started\n"
     ]
    }
   ],
   "source": [
    "car1.start()"
   ]
  },
  {
   "cell_type": "code",
   "execution_count": 63,
   "id": "42812154",
   "metadata": {},
   "outputs": [
    {
     "name": "stdout",
     "output_type": "stream",
     "text": [
      "car is now driving\n"
     ]
    }
   ],
   "source": [
    "car1.drive()"
   ]
  },
  {
   "cell_type": "code",
   "execution_count": 64,
   "id": "84b92e2c",
   "metadata": {},
   "outputs": [
    {
     "name": "stdout",
     "output_type": "stream",
     "text": [
      "car is now stop\n"
     ]
    }
   ],
   "source": [
    "car1.stop()"
   ]
  },
  {
   "cell_type": "code",
   "execution_count": 65,
   "id": "12e16628",
   "metadata": {},
   "outputs": [],
   "source": [
    "car2.fuel_up(0)"
   ]
  },
  {
   "cell_type": "code",
   "execution_count": 67,
   "id": "619b7082",
   "metadata": {},
   "outputs": [
    {
     "name": "stdout",
     "output_type": "stream",
     "text": [
      "plz add fuel to start\n"
     ]
    }
   ],
   "source": [
    "car2.start()"
   ]
  },
  {
   "cell_type": "code",
   "execution_count": 68,
   "id": "3a2e791b",
   "metadata": {},
   "outputs": [
    {
     "name": "stdout",
     "output_type": "stream",
     "text": [
      "start the car first \n"
     ]
    }
   ],
   "source": [
    "car2.drive()"
   ]
  },
  {
   "cell_type": "code",
   "execution_count": null,
   "id": "d47d6441",
   "metadata": {},
   "outputs": [],
   "source": []
  }
 ],
 "metadata": {
  "kernelspec": {
   "display_name": "Python 3 (ipykernel)",
   "language": "python",
   "name": "python3"
  },
  "language_info": {
   "codemirror_mode": {
    "name": "ipython",
    "version": 3
   },
   "file_extension": ".py",
   "mimetype": "text/x-python",
   "name": "python",
   "nbconvert_exporter": "python",
   "pygments_lexer": "ipython3",
   "version": "3.9.7"
  }
 },
 "nbformat": 4,
 "nbformat_minor": 5
}
