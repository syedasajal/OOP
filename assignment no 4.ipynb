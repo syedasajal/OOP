{
 "cells": [
  {
   "cell_type": "markdown",
   "id": "7e184bda",
   "metadata": {},
   "source": [
    "#### Class and Object"
   ]
  },
  {
   "cell_type": "code",
   "execution_count": 2,
   "id": "d31d97e5",
   "metadata": {},
   "outputs": [],
   "source": [
    "#this is an empty class\n",
    "\n",
    "class Door:\n",
    "    pass\n"
   ]
  },
  {
   "cell_type": "code",
   "execution_count": 2,
   "id": "cddf5594",
   "metadata": {},
   "outputs": [],
   "source": [
    "class Door:\n",
    "#__init__ is the constructor and constructor is used to create attributes.\n",
    "    def __init__(self,color,dimm,material): #self,colour,material is the attribute \n",
    "        self.color = color\n",
    "        self.dimm = dimm\n",
    "        self.material = material\n",
    "        self.angle = 0\n",
    "        \n",
    "    def open_(self,angle_value):\n",
    "        self.angle = angle_value\n",
    "        print(\"Open the door\")\n",
    "        \n",
    "    def close_(self,angle_value):\n",
    "        if angle_value==0:\n",
    "            print(\"Door is already closed,cannot close more.\")\n",
    "        else:\n",
    "            self.angle = self.angle - angle_value\n",
    "\n",
    "    "
   ]
  },
  {
   "cell_type": "code",
   "execution_count": 3,
   "id": "1550d8a4",
   "metadata": {},
   "outputs": [],
   "source": [
    "dr_1 = Door(\"back\",\"7*4\",\"wood\")\n",
    "dr_2 = Door(color=\"white\",dimm=\"7*4\",material=\"steel\")"
   ]
  },
  {
   "cell_type": "code",
   "execution_count": 4,
   "id": "5aa92d75",
   "metadata": {},
   "outputs": [
    {
     "data": {
      "text/plain": [
       "'back'"
      ]
     },
     "execution_count": 4,
     "metadata": {},
     "output_type": "execute_result"
    }
   ],
   "source": [
    "dr_1.color"
   ]
  },
  {
   "cell_type": "code",
   "execution_count": 5,
   "id": "8adcc466",
   "metadata": {},
   "outputs": [
    {
     "name": "stdout",
     "output_type": "stream",
     "text": [
      "Open the door\n"
     ]
    }
   ],
   "source": [
    "dr_1.open_(40)"
   ]
  },
  {
   "cell_type": "code",
   "execution_count": 6,
   "id": "3a158021",
   "metadata": {},
   "outputs": [
    {
     "data": {
      "text/plain": [
       "'7*4'"
      ]
     },
     "execution_count": 6,
     "metadata": {},
     "output_type": "execute_result"
    }
   ],
   "source": [
    "dr_2.dimm"
   ]
  },
  {
   "cell_type": "code",
   "execution_count": 11,
   "id": "1c18ae25",
   "metadata": {},
   "outputs": [
    {
     "name": "stdout",
     "output_type": "stream",
     "text": [
      "Door is already closed,cannot close more.\n"
     ]
    }
   ],
   "source": [
    "dr_1.close_(0)\n"
   ]
  },
  {
   "cell_type": "code",
   "execution_count": 12,
   "id": "78d4afb4",
   "metadata": {},
   "outputs": [],
   "source": [
    "class Dog:\n",
    "    def __init__(self,breed,colour,age):\n",
    "        self.breed = breed\n",
    "        self.colour = colour\n",
    "        self.age = age\n",
    "        \n",
    "    def bark(self):\n",
    "        print(\"Dog is barking\")\n",
    "        \n",
    "    def eat(self):\n",
    "        print(\"dog is eating\")\n",
    "        \n",
    "    def drink(self):\n",
    "        print(\"dog is drinking water.\")\n"
   ]
  },
  {
   "cell_type": "code",
   "execution_count": 13,
   "id": "b1206d97",
   "metadata": {},
   "outputs": [],
   "source": [
    "dog_1 = Dog(breed=\"bulldog\",colour=\"White\",age=\"5\")\n",
    "dog_2 = Dog(\"German_Shepherd\",\"Black\",\"6\")"
   ]
  },
  {
   "cell_type": "code",
   "execution_count": 14,
   "id": "364861d1",
   "metadata": {},
   "outputs": [
    {
     "data": {
      "text/plain": [
       "'bulldog'"
      ]
     },
     "execution_count": 14,
     "metadata": {},
     "output_type": "execute_result"
    }
   ],
   "source": [
    "dog_1.breed"
   ]
  },
  {
   "cell_type": "code",
   "execution_count": 15,
   "id": "45b4de88",
   "metadata": {},
   "outputs": [
    {
     "data": {
      "text/plain": [
       "'Black'"
      ]
     },
     "execution_count": 15,
     "metadata": {},
     "output_type": "execute_result"
    }
   ],
   "source": [
    "dog_2.colour"
   ]
  },
  {
   "cell_type": "code",
   "execution_count": 17,
   "id": "ad9d6267",
   "metadata": {},
   "outputs": [
    {
     "name": "stdout",
     "output_type": "stream",
     "text": [
      "dog is eating\n"
     ]
    }
   ],
   "source": [
    "dog_1.eat()"
   ]
  },
  {
   "cell_type": "code",
   "execution_count": 18,
   "id": "927db83b",
   "metadata": {},
   "outputs": [
    {
     "name": "stdout",
     "output_type": "stream",
     "text": [
      "dog is drinking water.\n"
     ]
    }
   ],
   "source": [
    "dog_2.drink()"
   ]
  },
  {
   "cell_type": "code",
   "execution_count": 24,
   "id": "23692c4c",
   "metadata": {},
   "outputs": [],
   "source": [
    "class Person:\n",
    "    def __init__(self,gender,name,age,height):\n",
    "        self.gender = gender\n",
    "        self.name = name\n",
    "        self.age = age\n",
    "        self.height = height\n",
    "        \n",
    "    def eat(self):\n",
    "        print(\"person is eating\")\n",
    "        \n",
    "    def drink(self):\n",
    "        print(\"person is drinking\")\n",
    "        \n",
    "    def sleep(self):\n",
    "        print(\"person is sleeping\")\n",
    "    \n",
    "    def work(self):\n",
    "        print(\"person is working\")\n",
    "        "
   ]
  },
  {
   "cell_type": "code",
   "execution_count": 25,
   "id": "d98d1203",
   "metadata": {},
   "outputs": [],
   "source": [
    "person_1 = Person(gender=\"male\",name=\"ali\",age=\"17\",height=\"5.4\")\n",
    "person_2 = Person(gender=\"female\",name=\"ayesha\",age=\"18\",height=\"5.0\")"
   ]
  },
  {
   "cell_type": "code",
   "execution_count": 26,
   "id": "b23639e1",
   "metadata": {},
   "outputs": [
    {
     "data": {
      "text/plain": [
       "'male'"
      ]
     },
     "execution_count": 26,
     "metadata": {},
     "output_type": "execute_result"
    }
   ],
   "source": [
    "person_1.gender"
   ]
  },
  {
   "cell_type": "code",
   "execution_count": 27,
   "id": "07ab79f8",
   "metadata": {},
   "outputs": [
    {
     "data": {
      "text/plain": [
       "'18'"
      ]
     },
     "execution_count": 27,
     "metadata": {},
     "output_type": "execute_result"
    }
   ],
   "source": [
    "person_2.age"
   ]
  },
  {
   "cell_type": "code",
   "execution_count": 29,
   "id": "8bc9da58",
   "metadata": {},
   "outputs": [
    {
     "name": "stdout",
     "output_type": "stream",
     "text": [
      "person is working\n"
     ]
    }
   ],
   "source": [
    "person_1.work()"
   ]
  },
  {
   "cell_type": "code",
   "execution_count": 30,
   "id": "5ad7ca0e",
   "metadata": {},
   "outputs": [
    {
     "name": "stdout",
     "output_type": "stream",
     "text": [
      "person is sleeping\n"
     ]
    }
   ],
   "source": [
    "person_2.sleep()"
   ]
  },
  {
   "cell_type": "code",
   "execution_count": 90,
   "id": "5a12036e",
   "metadata": {},
   "outputs": [],
   "source": [
    "\n",
    "class Soldier:\n",
    "    def __init__(self,uniform,weapon,army, bullets):\n",
    "        self.uniform = uniform\n",
    "        self.weapon = weapon\n",
    "        self.army = army\n",
    "        self.bullets = bullets\n",
    "        self.aimed = False\n",
    "        self.alerted = False\n",
    "        \n",
    "    def aim(self):\n",
    "        print(\"Soldier is aiming at the point\")\n",
    "        self.aimed = True\n",
    "    \n",
    "    def fire(self,bullets):\n",
    "        if self.aimed == True:\n",
    "            if self.bullets > 0:\n",
    "                for i in range(self.bullets):\n",
    "                    self.bullets = self.bullets - 1\n",
    "                    print(\"bullets is \" + str(self.bullets))\n",
    "                    if self.bullets == 0:\n",
    "                        break\n",
    "            else:\n",
    "                print(\"gun has no bullets\")\n",
    "                    \n",
    "        else:\n",
    "            print(\"aim first!\")\n",
    "            \n",
    "    def alert(self):\n",
    "        print(\"Soldier is alert an ready to attack.\")\n",
    "        \n",
    "    def attack(self):\n",
    "        print(\"attacked\")\n",
    "    \n",
    "    def reload(self,bullets):\n",
    "        if self.bullets == 0:\n",
    "            self.bullets = self.bullets + bullets\n",
    "            print(\"we reloaded gun with\" +\" \"+ str(self.bullets)+\" \" + \"bullets\")\n",
    "    "
   ]
  },
  {
   "cell_type": "code",
   "execution_count": 91,
   "id": "d3123b78",
   "metadata": {},
   "outputs": [],
   "source": [
    "sldr_1 = Soldier(\"brown\",\"Ak47\",\"Pakistan\",20)\n",
    "sldr_2 = Soldier(\"blue\",\"Ak47\",\"india\",10)"
   ]
  },
  {
   "cell_type": "code",
   "execution_count": 92,
   "id": "284249e8",
   "metadata": {},
   "outputs": [
    {
     "data": {
      "text/plain": [
       "'Pakistan'"
      ]
     },
     "execution_count": 92,
     "metadata": {},
     "output_type": "execute_result"
    }
   ],
   "source": [
    "sldr_1.army"
   ]
  },
  {
   "cell_type": "code",
   "execution_count": 93,
   "id": "a23c68c3",
   "metadata": {},
   "outputs": [
    {
     "data": {
      "text/plain": [
       "'Ak47'"
      ]
     },
     "execution_count": 93,
     "metadata": {},
     "output_type": "execute_result"
    }
   ],
   "source": [
    "sldr_1.weapon"
   ]
  },
  {
   "cell_type": "code",
   "execution_count": 94,
   "id": "3a504d50",
   "metadata": {},
   "outputs": [
    {
     "name": "stdout",
     "output_type": "stream",
     "text": [
      "Soldier is aiming at the point\n"
     ]
    }
   ],
   "source": [
    "sldr_1.aim()"
   ]
  },
  {
   "cell_type": "code",
   "execution_count": 95,
   "id": "232beeb6",
   "metadata": {},
   "outputs": [
    {
     "name": "stdout",
     "output_type": "stream",
     "text": [
      "bullets is 19\n",
      "bullets is 18\n",
      "bullets is 17\n",
      "bullets is 16\n",
      "bullets is 15\n",
      "bullets is 14\n",
      "bullets is 13\n",
      "bullets is 12\n",
      "bullets is 11\n",
      "bullets is 10\n",
      "bullets is 9\n",
      "bullets is 8\n",
      "bullets is 7\n",
      "bullets is 6\n",
      "bullets is 5\n",
      "bullets is 4\n",
      "bullets is 3\n",
      "bullets is 2\n",
      "bullets is 1\n",
      "bullets is 0\n"
     ]
    }
   ],
   "source": [
    "sldr_1.fire(20)"
   ]
  },
  {
   "cell_type": "code",
   "execution_count": 96,
   "id": "b8bc335b",
   "metadata": {},
   "outputs": [
    {
     "name": "stdout",
     "output_type": "stream",
     "text": [
      "we reloaded gun with 6 bullets\n"
     ]
    }
   ],
   "source": [
    "sldr_1.reload(6)"
   ]
  },
  {
   "cell_type": "code",
   "execution_count": 2,
   "id": "81dd1dcc",
   "metadata": {},
   "outputs": [],
   "source": [
    "import time\n",
    "\n",
    "class Car:\n",
    "    def __init__(self,brand,model,type_):\n",
    "        self.brand = brand\n",
    "        self.model = model\n",
    "        self.type_ = type_\n",
    "        self.fuel_level = 0\n",
    "        self.started = False\n",
    "        \n",
    "        \n",
    "    def fuel_up(self,fuel_level):\n",
    "        for i in range(fuel_level):\n",
    "            self.fuel_level = self.fuel_level + 1\n",
    "            print('fuel is: '+str(self.fuel_level))\n",
    "            time.sleep(1)\n",
    "        \n",
    "    def start(self):\n",
    "        if self.fuel_level > 0 :\n",
    "            print(\"car is started\")\n",
    "            self.started = True\n",
    "        else:\n",
    "            print('Please add fuel')\n",
    "            \n",
    "    def drive(self):\n",
    "        if self.started==True:\n",
    "            print(\"car is now driving\")\n",
    "        else:\n",
    "            print('please start the car first')\n",
    "        \n",
    "    def stop(self):\n",
    "        print(\"car is stop\")\n",
    "        \n"
   ]
  },
  {
   "cell_type": "code",
   "execution_count": 3,
   "id": "09b1cad8",
   "metadata": {},
   "outputs": [],
   "source": [
    "car_1 = Car(\"toyota\",\"corolla\",\"car\")\n",
    "car_2 = Car(\"honda\",\"kia-sportage\",\"car\")"
   ]
  },
  {
   "cell_type": "code",
   "execution_count": 10,
   "id": "48b63c5c",
   "metadata": {},
   "outputs": [
    {
     "data": {
      "text/plain": [
       "'toyota'"
      ]
     },
     "execution_count": 10,
     "metadata": {},
     "output_type": "execute_result"
    }
   ],
   "source": [
    "car_1.brand"
   ]
  },
  {
   "cell_type": "code",
   "execution_count": 11,
   "id": "ecd9f709",
   "metadata": {},
   "outputs": [
    {
     "data": {
      "text/plain": [
       "'corolla'"
      ]
     },
     "execution_count": 11,
     "metadata": {},
     "output_type": "execute_result"
    }
   ],
   "source": [
    "car_1.model"
   ]
  },
  {
   "cell_type": "code",
   "execution_count": 12,
   "id": "51ec32c6",
   "metadata": {},
   "outputs": [
    {
     "name": "stdout",
     "output_type": "stream",
     "text": [
      "fuel is: 6\n",
      "fuel is: 7\n",
      "fuel is: 8\n",
      "fuel is: 9\n",
      "fuel is: 10\n"
     ]
    }
   ],
   "source": [
    "car_1.fuel_up(5)"
   ]
  },
  {
   "cell_type": "code",
   "execution_count": 13,
   "id": "8c6b0825",
   "metadata": {},
   "outputs": [
    {
     "name": "stdout",
     "output_type": "stream",
     "text": [
      "car is started\n"
     ]
    }
   ],
   "source": [
    "car_1.start()"
   ]
  },
  {
   "cell_type": "code",
   "execution_count": 14,
   "id": "e7e7ab6c",
   "metadata": {},
   "outputs": [
    {
     "name": "stdout",
     "output_type": "stream",
     "text": [
      "car is now driving\n"
     ]
    }
   ],
   "source": [
    "car_1.drive()"
   ]
  },
  {
   "cell_type": "code",
   "execution_count": 15,
   "id": "d375a270",
   "metadata": {},
   "outputs": [
    {
     "name": "stdout",
     "output_type": "stream",
     "text": [
      "car is stop\n"
     ]
    }
   ],
   "source": [
    "car_1.stop()"
   ]
  },
  {
   "cell_type": "code",
   "execution_count": 17,
   "id": "aa02cc39",
   "metadata": {},
   "outputs": [],
   "source": [
    "car_2.fuel_up(0)"
   ]
  },
  {
   "cell_type": "code",
   "execution_count": 18,
   "id": "773643f4",
   "metadata": {},
   "outputs": [
    {
     "name": "stdout",
     "output_type": "stream",
     "text": [
      "Please add fuel\n"
     ]
    }
   ],
   "source": [
    "car_2.start()"
   ]
  },
  {
   "cell_type": "code",
   "execution_count": 19,
   "id": "85f69c92",
   "metadata": {},
   "outputs": [
    {
     "name": "stdout",
     "output_type": "stream",
     "text": [
      "please start the car first\n"
     ]
    }
   ],
   "source": [
    "car_2.drive()"
   ]
  },
  {
   "cell_type": "code",
   "execution_count": 53,
   "id": "63ae3ab7",
   "metadata": {},
   "outputs": [],
   "source": [
    "class Bulb:\n",
    "    def __init__(self,company,colour,watts):\n",
    "        self.company = company\n",
    "        self.colour = colour\n",
    "        self.watts = watts\n",
    "        \n",
    "    def on(self):\n",
    "        print(\"Bulb is on.\")\n",
    "    \n",
    "    def off(self):\n",
    "        print(\"Bulb is off.\")"
   ]
  },
  {
   "cell_type": "code",
   "execution_count": 54,
   "id": "5a42e7a4",
   "metadata": {},
   "outputs": [],
   "source": [
    "bulb_1 = Bulb(\"Lightsave\",\"white\",\"110\")\n",
    "bulb_2 = Bulb(\"UltraLEDs\",\"golden\",\"120\")"
   ]
  },
  {
   "cell_type": "code",
   "execution_count": 55,
   "id": "69dc62bb",
   "metadata": {},
   "outputs": [
    {
     "data": {
      "text/plain": [
       "'white'"
      ]
     },
     "execution_count": 55,
     "metadata": {},
     "output_type": "execute_result"
    }
   ],
   "source": [
    "bulb_1.colour"
   ]
  },
  {
   "cell_type": "code",
   "execution_count": 56,
   "id": "b16f7f7b",
   "metadata": {},
   "outputs": [
    {
     "data": {
      "text/plain": [
       "'120'"
      ]
     },
     "execution_count": 56,
     "metadata": {},
     "output_type": "execute_result"
    }
   ],
   "source": [
    "bulb_2.watts"
   ]
  },
  {
   "cell_type": "code",
   "execution_count": 57,
   "id": "1338b73d",
   "metadata": {},
   "outputs": [
    {
     "name": "stdout",
     "output_type": "stream",
     "text": [
      "Bulb is on.\n"
     ]
    }
   ],
   "source": [
    "bulb_1.on()"
   ]
  },
  {
   "cell_type": "code",
   "execution_count": 58,
   "id": "b4b1d45c",
   "metadata": {},
   "outputs": [
    {
     "name": "stdout",
     "output_type": "stream",
     "text": [
      "Bulb is off.\n"
     ]
    }
   ],
   "source": [
    "bulb_2.off()"
   ]
  },
  {
   "cell_type": "code",
   "execution_count": null,
   "id": "cc2a20ba",
   "metadata": {},
   "outputs": [],
   "source": [
    "#Multi-level Inheritence\n",
    "-----------------------\n",
    "#Q1\n",
    "#Make a chain of classes, each one inheriting from the previous one as shown below.\n",
    "#Cake -> CreamCake -> CherryCreamCake -> ChocolateCherryCreamCake\n",
    "#Attributes of Cake: floor, egg, sugar, milk, sugar, baking soda, temperature, is_baked,\n",
    "#Methods of Cake: beat_eggs_whites, mix, bake,\n",
    "\n",
    "#Attributes of CreanmCake: cream,\n",
    "#Methods of CreanmCake: add_cream, refrigerate, \n",
    "\n",
    "#Attributes of CherryCreamCake: cherry\n",
    "#Methods of CherryCreanmCake: add_cherry,\n",
    "\n",
    "#Attributes of ChocolateCherryCreamCake: chocolate,\n",
    "#Methods of Cake: add_chocolate"
   ]
  },
  {
   "cell_type": "code",
   "execution_count": 6,
   "id": "2a835196",
   "metadata": {},
   "outputs": [],
   "source": [
    "class Cake:\n",
    "    def __init__(self,flour,egg,sugar,milk,baking_soda,temperature,is_baked):\n",
    "        self.flour = flour\n",
    "        self.egg = egg\n",
    "        self.sugar = sugar\n",
    "        self.milk = milk\n",
    "        self.baking_soda = baking_soda\n",
    "        self.temperature = temperature\n",
    "        self.is_baked = is_baked\n",
    "        \n",
    "    def beat_eggs_whites(self):\n",
    "        print(\"beating eggs whites\")\n",
    "        \n",
    "    def mix(self):\n",
    "        print(\"mixing\")\n",
    "        \n",
    "    def bake(self):\n",
    "        print(\"cake is baked\")\n",
    "        \n",
    "class Cream_Cake(Cake):\n",
    "    def __init__(self,flour,egg,sugar,milk,baking_soda,temperature,is_baked,cream):\n",
    "        self.cream = cream\n",
    "        Cake.__init__(self,flour,egg,sugar,milk,baking_soda,temperature,is_baked)#this is the method of calling the parent class\n",
    "        \n",
    "    def add_cream(self):\n",
    "        print(\"cream is added\")\n",
    "        \n",
    "    def refrigerate(self):\n",
    "        print(\"cake is in refrigerator\")\n",
    "        \n",
    "        \n",
    "class CherryCreamCake(Cream_Cake):\n",
    "    def __init__(self,flour,egg,sugar,milk,baking_soda,temperature,is_baked,cream,cherry):\n",
    "        self.cherry = cherry\n",
    "        Cream_Cake.__init__(self,flour,egg,sugar,milk,baking_soda,temperature,is_baked,cream)\n",
    "        \n",
    "    def add_cherry(self):\n",
    "        print(\"cherry is added\")\n",
    "        \n",
    "class ChocolateCherryCreamCake(CherryCreamCake):\n",
    "    def __init__(self,flour,egg,sugar,milk,baking_soda,temperature,is_baked,cream,cherry,chocolate):\n",
    "        self.chocolate = chocolate\n",
    "        super().__init__(flour,egg,sugar,milk,baking_soda,temperature,is_baked,cream,cherry)#we can also use this to call parent class constructor.\n",
    "        \n",
    "    def add_chocolate(self):\n",
    "        print(\"chocolate is added in cake\")\n",
    "\n",
    "        \n",
    "        "
   ]
  },
  {
   "cell_type": "code",
   "execution_count": 7,
   "id": "cce6aed8",
   "metadata": {},
   "outputs": [],
   "source": [
    "cake1= Cake(\"70gram\",\"3\",\"3cup\",\"1litre\",\"2spoon\",\"50degree\",\"cake is baked\")\n",
    "creamcake2 = Cream_Cake(\"70gram\",\"3\",\"3cup\",\"1litre\",\"2spoon\",\"50degree\",\"cake is baked\",\"1pack\")\n",
    "cherrycreamcake1 = CherryCreamCake(\"70gram\",\"3\",\"3cup\",\"1litre\",\"2spoon\",\"50degree\",\"cake is baked\",\"2pack\",'1pack')\n",
    "chocolatecherrycreamcake2 = ChocolateCherryCreamCake(\"70gram\",\"3\",\"3cup\",\"1litre\",\"2spoon\",\"50degree\",\"cake is baked\",\"2pack\",'1pack','chocolate')"
   ]
  },
  {
   "cell_type": "code",
   "execution_count": 8,
   "id": "814c30f8",
   "metadata": {},
   "outputs": [
    {
     "data": {
      "text/plain": [
       "'3cup'"
      ]
     },
     "execution_count": 8,
     "metadata": {},
     "output_type": "execute_result"
    }
   ],
   "source": [
    "chocolatecherrycreamcake2.sugar"
   ]
  },
  {
   "cell_type": "code",
   "execution_count": 9,
   "id": "f47ecfdf",
   "metadata": {},
   "outputs": [
    {
     "name": "stdout",
     "output_type": "stream",
     "text": [
      "mixing\n"
     ]
    }
   ],
   "source": [
    "creamcake2.mix()"
   ]
  },
  {
   "cell_type": "code",
   "execution_count": 10,
   "id": "ace88cec",
   "metadata": {},
   "outputs": [
    {
     "name": "stdout",
     "output_type": "stream",
     "text": [
      "cherry is added\n"
     ]
    }
   ],
   "source": [
    "cherrycreamcake1.add_cherry()"
   ]
  },
  {
   "cell_type": "code",
   "execution_count": 11,
   "id": "ab2a37c9",
   "metadata": {},
   "outputs": [
    {
     "name": "stdout",
     "output_type": "stream",
     "text": [
      "cake is baked\n"
     ]
    }
   ],
   "source": [
    "cake1.bake()"
   ]
  },
  {
   "cell_type": "code",
   "execution_count": 12,
   "id": "a7c5342a",
   "metadata": {},
   "outputs": [
    {
     "name": "stdout",
     "output_type": "stream",
     "text": [
      "cream is added\n"
     ]
    }
   ],
   "source": [
    "creamcake2.add_cream()"
   ]
  },
  {
   "cell_type": "code",
   "execution_count": 13,
   "id": "84a1c81b",
   "metadata": {},
   "outputs": [
    {
     "name": "stdout",
     "output_type": "stream",
     "text": [
      "cherry is added\n"
     ]
    }
   ],
   "source": [
    "cherrycreamcake1.add_cherry()"
   ]
  },
  {
   "cell_type": "code",
   "execution_count": 14,
   "id": "e69e2a0a",
   "metadata": {},
   "outputs": [
    {
     "name": "stdout",
     "output_type": "stream",
     "text": [
      "chocolate is added in cake\n"
     ]
    }
   ],
   "source": [
    "chocolatecherrycreamcake2.add_chocolate()"
   ]
  },
  {
   "cell_type": "code",
   "execution_count": 15,
   "id": "43b4b039",
   "metadata": {},
   "outputs": [
    {
     "data": {
      "text/plain": [
       "'70gram'"
      ]
     },
     "execution_count": 15,
     "metadata": {},
     "output_type": "execute_result"
    }
   ],
   "source": [
    "cake1.flour"
   ]
  },
  {
   "cell_type": "code",
   "execution_count": 16,
   "id": "b22f8e7a",
   "metadata": {},
   "outputs": [
    {
     "data": {
      "text/plain": [
       "'chocolate'"
      ]
     },
     "execution_count": 16,
     "metadata": {},
     "output_type": "execute_result"
    }
   ],
   "source": [
    "chocolatecherrycreamcake2.chocolate"
   ]
  },
  {
   "cell_type": "code",
   "execution_count": null,
   "id": "e21c452b",
   "metadata": {},
   "outputs": [],
   "source": [
    "#Hierarchical Inheritence\n",
    "--------------------------\n",
    "#Q2\n",
    "\n",
    "#Make two chains of classes following the hierarchy mentioned below and make atleast 2 methods and some data-members of \n",
    "#your choice for each class. Also, first make the UML diagram on the page before coding the scenario.\n",
    "\n",
    "#Animal - > Herbivorous -> Cow -> SahiwalCow (Hint: sahiwal cow has hump on its back)\n",
    "#Animal -> Carnivorous -> Shark -> BlueShark\n",
    "\n"
   ]
  },
  {
   "cell_type": "code",
   "execution_count": 22,
   "id": "417c9b49",
   "metadata": {},
   "outputs": [],
   "source": [
    "class Animal:\n",
    "    def __init__(self,weight):\n",
    "        self.weight = weight\n",
    "        \n",
    "    def eat(self):\n",
    "        print(\"animal is eating\")\n",
    "        \n",
    "    def drink(self):\n",
    "        print(\"animal is drinking\")\n",
    "        \n",
    "    def sleep(self):\n",
    "        print(\"animal is sleeping\")\n",
    "        \n",
    "class Herbivorous(Animal):\n",
    "    def __init__(self,weight,type_):\n",
    "        self.type_ = type_\n",
    "        Animal.__init__(self,weight)\n",
    "        \n",
    "    def eat_plants(self):\n",
    "        print(\"only eat plants\")\n",
    "        \n",
    "class Cow(Herbivorous):\n",
    "    def __init__(self,weight,type_,colour):\n",
    "        self.colour = colour\n",
    "        Herbivorous.__init__(self,weight,type_)\n",
    "        \n",
    "    def gives_milk(self):\n",
    "        print(\"cow gives milk\")\n",
    "        \n",
    "class Sahiwal_Cow(Cow):\n",
    "    def __init__(self,weight,type_,colour,belong_Sahiwal):\n",
    "        self.belong_Sahiwal = belong_Sahiwal\n",
    "        Cow.__init__(self,weight,type_,colour)\n",
    "        \n",
    "    def gives_milk(self): # function/method overriding\n",
    "        return Cow.gives_milk(self)\n",
    "        \n",
    "        \n",
    "class Carnivorous(Animal):\n",
    "    def __init__(self,weight,type_):\n",
    "        self.type_ = type_\n",
    "        Animal.__init__(self,weight)\n",
    "        \n",
    "    def eat_meat(self):\n",
    "        print(\"eats meat\")\n",
    "        \n",
    "        \n",
    "class Shark(Carnivorous):\n",
    "    def __init__(self,weight,type_,bones):\n",
    "        self.bones = bones\n",
    "        Carnivorous.__init__(self,weight,type_)\n",
    "                                                \n",
    "    def sharp_eyesight(self):\n",
    "        print(\"shark has sharp eyesight\")\n",
    "                                            \n",
    "class Blue_Shark(Shark):\n",
    "    def __init__(self,weight,type_,bones,blue_in_colour):\n",
    "        self.blue_in_colour = blue_in_colour\n",
    "        Shark.__init__(self,weight,type_,bones)\n",
    "        \n",
    "    def sharp_eyesight(self):\n",
    "        return Shark.sharp_eyesight(self)\n"
   ]
  },
  {
   "cell_type": "code",
   "execution_count": 24,
   "id": "f05c944c",
   "metadata": {},
   "outputs": [],
   "source": [
    "animal = Animal(\"60kg\")\n",
    "herbi = Herbivorous(\"60kg\",\"herbivorous\")\n",
    "cow1 = Cow(\"60kg\",\"herbivorous\",\"white\")\n",
    "cow2 = Sahiwal_Cow(\"60kg\",\"herbivorous\",\"white\",\"belongs to sahiwal\")\n",
    "carni = Carnivorous(\"70kg\",\"carnivorous\")\n",
    "shark1 = Shark(\"70kg\",\"carnivorous\",\"no bones\")\n",
    "shark2 = Blue_Shark(\"70kg\",\"carnivorous\",\"no bones\",\"all blue\")"
   ]
  },
  {
   "cell_type": "code",
   "execution_count": 25,
   "id": "0605ac04",
   "metadata": {},
   "outputs": [
    {
     "name": "stdout",
     "output_type": "stream",
     "text": [
      "animal is sleeping\n"
     ]
    }
   ],
   "source": [
    "animal.sleep()"
   ]
  },
  {
   "cell_type": "code",
   "execution_count": 26,
   "id": "f03945cc",
   "metadata": {},
   "outputs": [
    {
     "name": "stdout",
     "output_type": "stream",
     "text": [
      "only eat plants\n"
     ]
    }
   ],
   "source": [
    "herbi.eat_plants()"
   ]
  },
  {
   "cell_type": "code",
   "execution_count": 27,
   "id": "ffa75923",
   "metadata": {},
   "outputs": [
    {
     "data": {
      "text/plain": [
       "'60kg'"
      ]
     },
     "execution_count": 27,
     "metadata": {},
     "output_type": "execute_result"
    }
   ],
   "source": [
    "cow1.weight"
   ]
  },
  {
   "cell_type": "code",
   "execution_count": 28,
   "id": "bf3c4eae",
   "metadata": {},
   "outputs": [
    {
     "name": "stdout",
     "output_type": "stream",
     "text": [
      "cow gives milk\n"
     ]
    }
   ],
   "source": [
    "cow2.gives_milk()"
   ]
  },
  {
   "cell_type": "code",
   "execution_count": 29,
   "id": "e80da42d",
   "metadata": {},
   "outputs": [
    {
     "data": {
      "text/plain": [
       "'belongs to sahiwal'"
      ]
     },
     "execution_count": 29,
     "metadata": {},
     "output_type": "execute_result"
    }
   ],
   "source": [
    "cow2.belong_Sahiwal"
   ]
  },
  {
   "cell_type": "code",
   "execution_count": 30,
   "id": "eed14070",
   "metadata": {},
   "outputs": [
    {
     "data": {
      "text/plain": [
       "'carnivorous'"
      ]
     },
     "execution_count": 30,
     "metadata": {},
     "output_type": "execute_result"
    }
   ],
   "source": [
    "carni.type_"
   ]
  },
  {
   "cell_type": "code",
   "execution_count": 31,
   "id": "3665a68e",
   "metadata": {},
   "outputs": [
    {
     "data": {
      "text/plain": [
       "'70kg'"
      ]
     },
     "execution_count": 31,
     "metadata": {},
     "output_type": "execute_result"
    }
   ],
   "source": [
    "shark1.weight"
   ]
  },
  {
   "cell_type": "code",
   "execution_count": 32,
   "id": "f8926f4a",
   "metadata": {},
   "outputs": [
    {
     "name": "stdout",
     "output_type": "stream",
     "text": [
      "shark has sharp eyesight\n"
     ]
    }
   ],
   "source": [
    "shark2.sharp_eyesight()"
   ]
  },
  {
   "cell_type": "code",
   "execution_count": 33,
   "id": "be8d967a",
   "metadata": {},
   "outputs": [
    {
     "data": {
      "text/plain": [
       "'no bones'"
      ]
     },
     "execution_count": 33,
     "metadata": {},
     "output_type": "execute_result"
    }
   ],
   "source": [
    "shark2.bones"
   ]
  },
  {
   "cell_type": "code",
   "execution_count": 34,
   "id": "b13d2bb2",
   "metadata": {},
   "outputs": [
    {
     "name": "stdout",
     "output_type": "stream",
     "text": [
      "eats meat\n"
     ]
    }
   ],
   "source": [
    "shark2.eat_meat()"
   ]
  },
  {
   "cell_type": "code",
   "execution_count": 37,
   "id": "76711a24",
   "metadata": {},
   "outputs": [],
   "source": [
    "#Multiple Inheritence\n",
    "# --------------------------\n",
    "#Q3\n",
    "\n",
    "#Make three classes as mentioned below and make atleast 2 methods and few data-members of your choice for each class.Also,\n",
    "#first make the UML diagram on the page before coding the scenario. Understand the concepts of multiple inheritence and \n",
    "#Method-Resolution-Order and how Super() keyword acts to resolve the issue.\n",
    "\n",
    "#Animal -> Herbivorous -> Omnivorous\n",
    "#Animal -> Carnivorous -> Omnivorous\n",
    "#(Hint: Omnivorous is inheriting from both Herbi & Carnivorous)\n",
    "\n"
   ]
  },
  {
   "cell_type": "code",
   "execution_count": 77,
   "id": "989b9fd6",
   "metadata": {},
   "outputs": [],
   "source": [
    "class Animal:\n",
    "    def __init__(self,weight,colour):\n",
    "        self.weight = weight\n",
    "        self.colour = colour\n",
    "        \n",
    "    def eat(self):\n",
    "        return \"animal is eating\"\n",
    "        \n",
    "    def drink(self):\n",
    "        return \"animal is drinking water\"\n",
    "        \n",
    "    def sleep(sleep):\n",
    "        return \"animal is sleeping\"\n",
    "        \n",
    "        \n",
    "class Herbivorous(Animal):\n",
    "    def __init__(self, weight, colour, fodder):\n",
    "        self.fodder = fodder\n",
    "        Animal.__init__(self,weight,colour)\n",
    "        \n",
    "    def eat(self):\n",
    "        return Animal.eat(self) +' '+self.fodder\n",
    "    \n",
    "class Carnivorous(Animal):\n",
    "    def __init__(self,weight,colour,meat):\n",
    "        self.meat = meat\n",
    "        Animal.__init__(self,weight,colour)\n",
    "        \n",
    "    def eat(self):\n",
    "        return Animal.eat(self) +\" \"+ self.meat\n",
    "    \n",
    "class Omnivorous(Herbivorous,Carnivorous):\n",
    "    def __init__(self,weight,colour,fodder,meat):\n",
    "        Herbivorous.__init__(self,weight,colour,fodder)\n",
    "        Carnivorous.__init__(self,weight,colour,meat)\n",
    "        \n",
    "    def eat(self):\n",
    "        return Carnivorous.eat(self) + ' and ' + self.fodder \n",
    "\n"
   ]
  },
  {
   "cell_type": "code",
   "execution_count": 78,
   "id": "1c17c8e7",
   "metadata": {},
   "outputs": [],
   "source": [
    "cow = Herbivorous(25, 'brown', 'barley grass')\n",
    "lion = Carnivorous(30,\"orange\",\"meat\")\n",
    "bear = Omnivorous(50,\"brown\",\"plants\", \"chicken\")"
   ]
  },
  {
   "cell_type": "code",
   "execution_count": 79,
   "id": "d2c85d51",
   "metadata": {},
   "outputs": [
    {
     "data": {
      "text/plain": [
       "'animal is eating barley grass'"
      ]
     },
     "execution_count": 79,
     "metadata": {},
     "output_type": "execute_result"
    }
   ],
   "source": [
    "cow.eat()"
   ]
  },
  {
   "cell_type": "code",
   "execution_count": 80,
   "id": "30e0b9c2",
   "metadata": {},
   "outputs": [
    {
     "data": {
      "text/plain": [
       "'animal is eating meat'"
      ]
     },
     "execution_count": 80,
     "metadata": {},
     "output_type": "execute_result"
    }
   ],
   "source": [
    "lion.eat()"
   ]
  },
  {
   "cell_type": "code",
   "execution_count": 81,
   "id": "245cae9b",
   "metadata": {},
   "outputs": [
    {
     "data": {
      "text/plain": [
       "'animal is eating chicken and plants'"
      ]
     },
     "execution_count": 81,
     "metadata": {},
     "output_type": "execute_result"
    }
   ],
   "source": [
    "bear.eat()"
   ]
  },
  {
   "cell_type": "code",
   "execution_count": 82,
   "id": "30c956e0",
   "metadata": {},
   "outputs": [
    {
     "data": {
      "text/plain": [
       "'plants'"
      ]
     },
     "execution_count": 82,
     "metadata": {},
     "output_type": "execute_result"
    }
   ],
   "source": [
    "bear.fodder"
   ]
  },
  {
   "cell_type": "code",
   "execution_count": 83,
   "id": "62fdbf0d",
   "metadata": {},
   "outputs": [
    {
     "data": {
      "text/plain": [
       "'barley grass'"
      ]
     },
     "execution_count": 83,
     "metadata": {},
     "output_type": "execute_result"
    }
   ],
   "source": [
    "cow.fodder"
   ]
  },
  {
   "cell_type": "code",
   "execution_count": 84,
   "id": "cbe4a2b3",
   "metadata": {},
   "outputs": [
    {
     "data": {
      "text/plain": [
       "'meat'"
      ]
     },
     "execution_count": 84,
     "metadata": {},
     "output_type": "execute_result"
    }
   ],
   "source": [
    "lion.meat"
   ]
  },
  {
   "cell_type": "code",
   "execution_count": null,
   "id": "f49533dc",
   "metadata": {},
   "outputs": [],
   "source": []
  },
  {
   "cell_type": "code",
   "execution_count": null,
   "id": "6eea13ae",
   "metadata": {},
   "outputs": [],
   "source": []
  }
 ],
 "metadata": {
  "kernelspec": {
   "display_name": "Python 3 (ipykernel)",
   "language": "python",
   "name": "python3"
  },
  "language_info": {
   "codemirror_mode": {
    "name": "ipython",
    "version": 3
   },
   "file_extension": ".py",
   "mimetype": "text/x-python",
   "name": "python",
   "nbconvert_exporter": "python",
   "pygments_lexer": "ipython3",
   "version": "3.9.7"
  }
 },
 "nbformat": 4,
 "nbformat_minor": 5
}
